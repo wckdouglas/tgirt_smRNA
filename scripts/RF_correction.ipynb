{
 "cells": [
  {
   "cell_type": "markdown",
   "metadata": {},
   "source": [
    "This notebook contains code for traning a RandomForest regressor to predict measurement biases of miRXplore datasets from TGIRT-seq.\n",
    "\n",
    "The [R RandomForest](https://cran.r-project.org/web/packages/randomForest/randomForest.pdf) model is being used here becuase neither [scikit-learn randomforest](https://github.com/scikit-learn/scikit-learn/issues/5442) nor the *train* module from [caret](https://stats.stackexchange.com/questions/135671/how-does-caret-handle-factors) can handle categorically-labeled data."
   ]
  },
  {
   "cell_type": "code",
   "execution_count": 19,
   "metadata": {
    "collapsed": false,
    "scrolled": true
   },
   "outputs": [
    {
     "name": "stdout",
     "output_type": "stream",
     "text": [
      "The autoreload extension is already loaded. To reload it, use:\n",
      "  %reload_ext autoreload\n"
     ]
    }
   ],
   "source": [
    "%matplotlib inline\n",
    "%load_ext autoreload\n",
    "%autoreload 2\n",
    "\n",
    "import matplotlib.pyplot as plt\n",
    "import numpy as np\n",
    "from sklearn.metrics import r2_score\n",
    "from sklearn.model_selection import KFold, train_test_split\n",
    "import seaborn as sns\n",
    "from sequencing_tools.viz_tools import color_encoder, simpsons_palette, mixed_sort\n",
    "from helper_function import *\n",
    "from feature_selection import make_pca_df, pca_biplot, loading_plot\n",
    "import rpy2\n",
    "from rpy2.robjects import pandas2ri, Formula\n",
    "from rpy2.robjects.packages import importr\n",
    "import rpy2.rinterface as ri\n",
    "pandas2ri.activate()\n",
    "rf = importr('randomForest')\n",
    "stats = importr('stats')\n",
    "plt.rc('axes', labelsize=15)\n",
    "plt.rc('xtick', labelsize=15)\n",
    "plt.rc('ytick', labelsize=15)\n",
    "\n",
    "\n",
    "def rename_col(x):\n",
    "    out = ''\n",
    "    if 'head' in x:\n",
    "        out = '+' + str(int(x.replace('head','')) + 1)\n",
    "    elif 'tail' in x:\n",
    "        pos = re.search('[0-9]+$', x).group(0)\n",
    "        pos = int(pos) - 3\n",
    "        out = str(pos)\n",
    "    return out\n",
    "\n",
    "def train_to_cat(d):\n",
    "    for col in d.columns:\n",
    "        if col != 'Y':\n",
    "            d[col] = d[col].astype('category')\n",
    "    return d"
   ]
  },
  {
   "cell_type": "markdown",
   "metadata": {},
   "source": [
    "Reading in miRNA count data, combining counts from replicates and only look at NTT data, the first and last 3 nucleotides of each miRNA are extracted as predictors, $\\Delta log10$ CPM is computed and will be used as target:"
   ]
  },
  {
   "cell_type": "code",
   "execution_count": 2,
   "metadata": {
    "collapsed": false,
    "scrolled": true
   },
   "outputs": [
    {
     "data": {
      "text/html": [
       "<div>\n",
       "<style scoped>\n",
       "    .dataframe tbody tr th:only-of-type {\n",
       "        vertical-align: middle;\n",
       "    }\n",
       "\n",
       "    .dataframe tbody tr th {\n",
       "        vertical-align: top;\n",
       "    }\n",
       "\n",
       "    .dataframe thead th {\n",
       "        text-align: right;\n",
       "    }\n",
       "</style>\n",
       "<table border=\"1\" class=\"dataframe\">\n",
       "  <thead>\n",
       "    <tr style=\"text-align: right;\">\n",
       "      <th></th>\n",
       "      <th>prep</th>\n",
       "      <th>seq_id</th>\n",
       "      <th>seq_count</th>\n",
       "      <th>head0</th>\n",
       "      <th>head1</th>\n",
       "      <th>head2</th>\n",
       "      <th>tail0</th>\n",
       "      <th>tail1</th>\n",
       "      <th>tail2</th>\n",
       "      <th>cpm</th>\n",
       "      <th>expected_cpm</th>\n",
       "      <th>Y</th>\n",
       "    </tr>\n",
       "  </thead>\n",
       "  <tbody>\n",
       "    <tr>\n",
       "      <th>0</th>\n",
       "      <td>NTT</td>\n",
       "      <td>EBV-1-1</td>\n",
       "      <td>401</td>\n",
       "      <td>T</td>\n",
       "      <td>A</td>\n",
       "      <td>A</td>\n",
       "      <td>G</td>\n",
       "      <td>T</td>\n",
       "      <td>T</td>\n",
       "      <td>11.747525</td>\n",
       "      <td>1039.50104</td>\n",
       "      <td>-1.946879</td>\n",
       "    </tr>\n",
       "    <tr>\n",
       "      <th>1</th>\n",
       "      <td>NTT</td>\n",
       "      <td>EBV-1-2</td>\n",
       "      <td>42861</td>\n",
       "      <td>T</td>\n",
       "      <td>A</td>\n",
       "      <td>T</td>\n",
       "      <td>T</td>\n",
       "      <td>G</td>\n",
       "      <td>A</td>\n",
       "      <td>1255.637604</td>\n",
       "      <td>1039.50104</td>\n",
       "      <td>0.082039</td>\n",
       "    </tr>\n",
       "    <tr>\n",
       "      <th>2</th>\n",
       "      <td>NTT</td>\n",
       "      <td>EBV-1-2-star</td>\n",
       "      <td>2508</td>\n",
       "      <td>A</td>\n",
       "      <td>A</td>\n",
       "      <td>A</td>\n",
       "      <td>A</td>\n",
       "      <td>G</td>\n",
       "      <td>C</td>\n",
       "      <td>73.473300</td>\n",
       "      <td>1039.50104</td>\n",
       "      <td>-1.150695</td>\n",
       "    </tr>\n",
       "    <tr>\n",
       "      <th>3</th>\n",
       "      <td>NTT</td>\n",
       "      <td>EBV-1-3</td>\n",
       "      <td>3964</td>\n",
       "      <td>T</td>\n",
       "      <td>A</td>\n",
       "      <td>A</td>\n",
       "      <td>A</td>\n",
       "      <td>C</td>\n",
       "      <td>A</td>\n",
       "      <td>116.127656</td>\n",
       "      <td>1039.50104</td>\n",
       "      <td>-0.951889</td>\n",
       "    </tr>\n",
       "    <tr>\n",
       "      <th>4</th>\n",
       "      <td>NTT</td>\n",
       "      <td>EBV-1-3P</td>\n",
       "      <td>3684</td>\n",
       "      <td>T</td>\n",
       "      <td>A</td>\n",
       "      <td>G</td>\n",
       "      <td>G</td>\n",
       "      <td>T</td>\n",
       "      <td>C</td>\n",
       "      <td>107.924895</td>\n",
       "      <td>1039.50104</td>\n",
       "      <td>-0.983703</td>\n",
       "    </tr>\n",
       "  </tbody>\n",
       "</table>\n",
       "</div>"
      ],
      "text/plain": [
       "  prep        seq_id  seq_count head0 head1 head2 tail0 tail1 tail2  \\\n",
       "0  NTT       EBV-1-1        401     T     A     A     G     T     T   \n",
       "1  NTT       EBV-1-2      42861     T     A     T     T     G     A   \n",
       "2  NTT  EBV-1-2-star       2508     A     A     A     A     G     C   \n",
       "3  NTT       EBV-1-3       3964     T     A     A     A     C     A   \n",
       "4  NTT      EBV-1-3P       3684     T     A     G     G     T     C   \n",
       "\n",
       "           cpm  expected_cpm         Y  \n",
       "0    11.747525    1039.50104 -1.946879  \n",
       "1  1255.637604    1039.50104  0.082039  \n",
       "2    73.473300    1039.50104 -1.150695  \n",
       "3   116.127656    1039.50104 -0.951889  \n",
       "4   107.924895    1039.50104 -0.983703  "
      ]
     },
     "execution_count": 2,
     "metadata": {},
     "output_type": "execute_result"
    }
   ],
   "source": [
    "df = pd.read_csv('../data/miR_count.csv') \\\n",
    "    .groupby([\"prep\",\"seq_id\"], as_index=False) \\\n",
    "    .agg({'seq_count':'sum'})\\\n",
    "    .merge(get_seq_base(shuffle = [0,1,2,-3,-2,-1]))\\\n",
    "    .assign(cpm = lambda d: d.groupby('prep').seq_count.transform(count_to_cpm))\\\n",
    "    .assign(expected_cpm = lambda d: 1e6 / 962) \\\n",
    "    .assign(Y = lambda d: np.log10(d['cpm']) - np.log10(d['expected_cpm']))  \\\n",
    "    .query('prep == \"NTT\"')\\\n",
    "    .reset_index() \\\n",
    "    .drop('index', axis=1)\n",
    "df.head()"
   ]
  },
  {
   "cell_type": "code",
   "execution_count": 20,
   "metadata": {
    "collapsed": false
   },
   "outputs": [
    {
     "name": "stderr",
     "output_type": "stream",
     "text": [
      "/Users/wckdouglas/miniconda3/lib/python3.6/site-packages/ipykernel_launcher.py:38: SettingWithCopyWarning: \n",
      "A value is trying to be set on a copy of a slice from a DataFrame.\n",
      "Try using .loc[row_indexer,col_indexer] = value instead\n",
      "\n",
      "See the caveats in the documentation: http://pandas.pydata.org/pandas-docs/stable/indexing.html#indexing-view-versus-copy\n"
     ]
    },
    {
     "data": {
      "text/html": [
       "<div>\n",
       "<style scoped>\n",
       "    .dataframe tbody tr th:only-of-type {\n",
       "        vertical-align: middle;\n",
       "    }\n",
       "\n",
       "    .dataframe tbody tr th {\n",
       "        vertical-align: top;\n",
       "    }\n",
       "\n",
       "    .dataframe thead th {\n",
       "        text-align: right;\n",
       "    }\n",
       "</style>\n",
       "<table border=\"1\" class=\"dataframe\">\n",
       "  <thead>\n",
       "    <tr style=\"text-align: right;\">\n",
       "      <th></th>\n",
       "      <th>head0</th>\n",
       "      <th>head1</th>\n",
       "      <th>head2</th>\n",
       "      <th>tail0</th>\n",
       "      <th>tail1</th>\n",
       "      <th>tail2</th>\n",
       "      <th>Y</th>\n",
       "    </tr>\n",
       "  </thead>\n",
       "  <tbody>\n",
       "    <tr>\n",
       "      <th>0</th>\n",
       "      <td>T</td>\n",
       "      <td>A</td>\n",
       "      <td>A</td>\n",
       "      <td>G</td>\n",
       "      <td>T</td>\n",
       "      <td>T</td>\n",
       "      <td>-1.946879</td>\n",
       "    </tr>\n",
       "    <tr>\n",
       "      <th>1</th>\n",
       "      <td>T</td>\n",
       "      <td>A</td>\n",
       "      <td>T</td>\n",
       "      <td>T</td>\n",
       "      <td>G</td>\n",
       "      <td>A</td>\n",
       "      <td>0.082039</td>\n",
       "    </tr>\n",
       "    <tr>\n",
       "      <th>2</th>\n",
       "      <td>A</td>\n",
       "      <td>A</td>\n",
       "      <td>A</td>\n",
       "      <td>A</td>\n",
       "      <td>G</td>\n",
       "      <td>C</td>\n",
       "      <td>-1.150695</td>\n",
       "    </tr>\n",
       "    <tr>\n",
       "      <th>3</th>\n",
       "      <td>T</td>\n",
       "      <td>A</td>\n",
       "      <td>A</td>\n",
       "      <td>A</td>\n",
       "      <td>C</td>\n",
       "      <td>A</td>\n",
       "      <td>-0.951889</td>\n",
       "    </tr>\n",
       "    <tr>\n",
       "      <th>4</th>\n",
       "      <td>T</td>\n",
       "      <td>A</td>\n",
       "      <td>G</td>\n",
       "      <td>G</td>\n",
       "      <td>T</td>\n",
       "      <td>C</td>\n",
       "      <td>-0.983703</td>\n",
       "    </tr>\n",
       "  </tbody>\n",
       "</table>\n",
       "</div>"
      ],
      "text/plain": [
       "  head0 head1 head2 tail0 tail1 tail2         Y\n",
       "0     T     A     A     G     T     T -1.946879\n",
       "1     T     A     T     T     G     A  0.082039\n",
       "2     A     A     A     A     G     C -1.150695\n",
       "3     T     A     A     A     C     A -0.951889\n",
       "4     T     A     G     G     T     C -0.983703"
      ]
     },
     "execution_count": 20,
     "metadata": {},
     "output_type": "execute_result"
    }
   ],
   "source": [
    "model_df = df.filter(regex = 'head|tail|Y') \\\n",
    "    .pipe(train_to_cat)\n",
    "model_df.head()"
   ]
  },
  {
   "cell_type": "markdown",
   "metadata": {},
   "source": [
    "# K-fold cross-validation #\n",
    "\n",
    "20% of the data is partitioned out as test set, other 80% goes into an 8-fold cross-validation"
   ]
  },
  {
   "cell_type": "code",
   "execution_count": 4,
   "metadata": {
    "collapsed": true
   },
   "outputs": [],
   "source": [
    "train_df, test_df = train_test_split(model_df, test_size=0.2)"
   ]
  },
  {
   "cell_type": "markdown",
   "metadata": {},
   "source": [
    "Collect predictions and variable importances from each fold "
   ]
  },
  {
   "cell_type": "code",
   "execution_count": 5,
   "metadata": {
    "collapsed": true
   },
   "outputs": [],
   "source": [
    "kf = KFold(n_splits = 8)\n",
    "res_df = []\n",
    "var_df = []\n",
    "for i, (train_idx, test_idx) in enumerate(kf.split(train_df)):\n",
    "    sub_train_df = train_df.iloc[train_idx,:]\n",
    "    sub_test_df = train_df.iloc[test_idx]  \n",
    "    \n",
    "    \n",
    "    r_train_df = pandas2ri.DataFrame(sub_train_df.reset_index().drop('index',axis=1)) \n",
    "    formula = Formula('Y~.')\n",
    "    fitted_rf = rf.randomForest(formula = formula, data = r_train_df)\n",
    "    pred = stats.predict(fitted_rf, pandas2ri.DataFrame(sub_test_df))\n",
    "    pred = pandas2ri.ri2py_vector(pred)\n",
    "    \n",
    "    var = pandas2ri.ri2py_vector(fitted_rf.rx2('importance')).reshape(-1)\n",
    "    var_df.append(pd.DataFrame({'imp_score': var,\n",
    "                        'k' : i,\n",
    "                        'variable': sub_train_df.drop('Y', axis=1).columns}))\n",
    "    res_df.append(pd.DataFrame({'pred': pred, 'Y': sub_test_df['Y'], 'k': i}))\n",
    "    #print(sub_test_df.shape)\n",
    "res_df = pd.concat(res_df)\n",
    "var_df = pd.concat(var_df)"
   ]
  },
  {
   "cell_type": "code",
   "execution_count": null,
   "metadata": {
    "collapsed": false
   },
   "outputs": [],
   "source": [
    "ce = color_encoder()\n",
    "ce.fit(res_df.k+1)\n",
    "\n",
    "fig = plt.figure(figsize=(10,10))\n",
    "ax = fig.add_subplot(221)\n",
    "scale = np.arange(-3,3)\n",
    "ax.set_xticks(scale)\n",
    "ax.set_yticks(scale)\n",
    "ax.set_xlim(scale[0], scale[-1])\n",
    "ax.set_ylim(scale[0], scale[-1])\n",
    "for k, k_df in res_df.groupby('k'):\n",
    "    sns.regplot(k_df.Y, k_df.pred, \n",
    "                label = k + 1, \n",
    "                color = ce.encoder[k+1],\n",
    "                ci = None, \n",
    "                truncate=False,\n",
    "                line_kws = {'alpha': 0.5, 'linestyle':'-'},\n",
    "                scatter_kws = {'alpha' : 0.5})\n",
    "ax.plot([-5,3], [-5,3], color='red')\n",
    "ax.set_xlabel('Observed $\\Delta(log_{10} CPM)$')\n",
    "ax.set_ylabel('Predicted $\\Delta(log_{10} CPM)$')\n",
    "\n",
    "ax.legend().set_visible(False)\n",
    "\n",
    "    \n",
    "ax = fig.add_subplot(222)\n",
    "var_plot_df = var_df\\\n",
    "    .sort_values('imp_score', ascending=False)\\\n",
    "    .assign(variable = lambda d: d.variable.map(rename_col))\\\n",
    "    .assign(imp_score = lambda d: d.groupby('k').imp_score.transform(lambda x: x/x.sum()))\n",
    "sns.stripplot(data = var_plot_df,\n",
    "              order = var_plot_df.variable.unique(),\n",
    "              jitter=0.3,\n",
    "              y = 'imp_score', \n",
    "              x=  'variable', \n",
    "              hue = 'k', palette = list(ce.encoder.values()),\n",
    "              color = 'steelblue', ax = ax)\n",
    "ax.set_xticklabels(ax.get_xticklabels(), rotation=70, \n",
    "                   rotation_mode =  'anchor', ha = 'right')\n",
    "ax.set_xlabel('Position')\n",
    "ax.set_ylabel('Relative importance of the position')\n",
    "lgd = ce.show_legend(ax, title = 'Subgroup', fontsize=15, ncol=2)\n",
    "lgd.get_title().set_fontsize('15')\n",
    "    \n",
    "ax = fig.add_subplot(223)\n",
    "r2_df = res_df\\\n",
    "    .groupby('k')\\\n",
    "    .apply(lambda d: r2_score(d.Y,d.pred))\\\n",
    "    .transform(pd.DataFrame)\\\n",
    "    .reset_index()\\\n",
    "    .rename(columns={0:'r2'}) \\\n",
    "    .assign(colors = lambda d: d['k'].map(lambda k: ce.encoder[k+1]))\n",
    "ax.scatter(y = r2_df['r2'], x = r2_df.shape[0] * [1],\n",
    "         color = r2_df.colors.tolist())\n",
    "ax.xaxis.set_visible(False)\n",
    "ax.set_ylabel('$R^2$')\n",
    "\n",
    "\n",
    "#ax = fig.add_subplot(224)\n",
    "#scale = np.arange(-3,3)\n",
    "#ax.set_xticks(scale)\n",
    "#ax.set_yticks(scale)\n",
    "#ax.set_xlim(scale[0], scale[-1])\n",
    "#ax.set_ylim(scale[0], scale[-1])\n",
    "## train RF with full train_df\n",
    "#r_train_df = pandas2ri.DataFrame(train_df)\n",
    "#formula = Formula('Y~.')\n",
    "#fitted_rf = rf.randomForest(formula = formula, data = r_train_df)\n",
    "\n",
    "## predict on full test_df\n",
    "#test_df['pred'] = pandas2ri.ri2py_vector(stats.predict(fitted_rf, pandas2ri.DataFrame(test_df)))\n",
    "#sns.regplot(data=test_df, x = 'Y', y = 'pred', ax = ax, ci = False,\n",
    "#            line_kws = {'alpha': 1, 'linestyle':':'})\n",
    "#ax.plot([-5,3], [-5,3], color='red')\n",
    "#ax.set_xlabel('Observed $\\Delta(log_{10} CPM)$ on test set')\n",
    "#ax.set_ylabel('Predicted $\\Delta(log_{10} CPM)$ on test set')\n",
    "#r2 = r2_score(test_df.Y, test_df.pred)\n",
    "#ax.text(-2,1, '$R^2 = %.3f$ '%(r2), fontsize=15)\n",
    "#ax.legend().set_visible(False)\n",
    "\n",
    "\n",
    "sns.despine()\n",
    "fig.tight_layout()\n",
    "figurename = figure_path + '/rf_cv.pdf'\n",
    "fig.savefig(figurename, bbox_inches='tight')\n",
    "\n",
    "#figurename = figure_path + '/rf_cv.eps'\n",
    "#fig.savefig(figurename, bbox_inches='tight')"
   ]
  },
  {
   "cell_type": "markdown",
   "metadata": {},
   "source": [
    "# Test other nucleotides #\n",
    "\n",
    "Here, I will use nucleotides other than the first and last 3 bases from each miRNA as predictors and address how random-forest will capture unwanted patterns"
   ]
  },
  {
   "cell_type": "code",
   "execution_count": 21,
   "metadata": {
    "collapsed": true
   },
   "outputs": [],
   "source": [
    "def test_nucleotides(nucleotides=[0,1,2,-3,-2,-1], return_model = False):\n",
    "\n",
    "    label = 'End nucleotides' if set(nucleotides) - set([0,1,2,-3,-2,-1]) == set() else 'Random predictors'\n",
    "    df = pd.read_feather('../data/miR_count.feather') \\\n",
    "        .groupby([\"prep\",\"seq_id\"], as_index=False) \\\n",
    "        .agg({'seq_count':'sum'})\\\n",
    "        .merge(get_seq_base(shuffle = nucleotides))\\\n",
    "        .assign(cpm = lambda d: d.groupby('prep').seq_count.transform(count_to_cpm))\\\n",
    "        .assign(expected_cpm = lambda d: 1e6 / 962) \\\n",
    "        .assign(Y = lambda d: np.log10(d['cpm']) - np.log10(d['expected_cpm']))  \\\n",
    "        .query('prep == \"NTT\"')\\\n",
    "        .reset_index() \n",
    "\n",
    "    model_df = df.filter(regex = 'head|tail|Y')\\\n",
    "        .pipe(train_to_cat)\n",
    "    # set random_state to preserve same test set between two models\n",
    "    train_df, test_df = train_test_split(model_df, test_size=0.2, random_state=4)     \n",
    "    r_train_df = pandas2ri.DataFrame(train_df)\n",
    "    formula = Formula('Y~.')\n",
    "    fitted_rf = rf.randomForest(formula = formula, data = r_train_df)\n",
    "    pred = stats.predict(fitted_rf, pandas2ri.DataFrame(test_df))\n",
    "    test_df['predict'] = pandas2ri.ri2py_vector(pred)\n",
    "    if return_model:\n",
    "        return test_df.assign(label = label), fitted_rf\n",
    "    \n",
    "    else:\n",
    "        return test_df.assign(label = label)"
   ]
  },
  {
   "cell_type": "code",
   "execution_count": 27,
   "metadata": {
    "collapsed": false
   },
   "outputs": [
    {
     "name": "stderr",
     "output_type": "stream",
     "text": [
      "/Users/wckdouglas/miniconda3/lib/python3.6/site-packages/pandas/io/feather_format.py:112: FutureWarning: `nthreads` argument is deprecated, pass `use_threads` instead\n",
      "  return feather.read_dataframe(path, nthreads=nthreads)\n",
      "/Users/wckdouglas/miniconda3/lib/python3.6/site-packages/ipykernel_launcher.py:38: SettingWithCopyWarning: \n",
      "A value is trying to be set on a copy of a slice from a DataFrame.\n",
      "Try using .loc[row_indexer,col_indexer] = value instead\n",
      "\n",
      "See the caveats in the documentation: http://pandas.pydata.org/pandas-docs/stable/indexing.html#indexing-view-versus-copy\n",
      "/Users/wckdouglas/miniconda3/lib/python3.6/site-packages/ipykernel_launcher.py:13: SettingWithCopyWarning: \n",
      "A value is trying to be set on a copy of a slice from a DataFrame.\n",
      "Try using .loc[row_indexer,col_indexer] = value instead\n",
      "\n",
      "See the caveats in the documentation: http://pandas.pydata.org/pandas-docs/stable/indexing.html#indexing-view-versus-copy\n",
      "  del sys.path[0]\n"
     ]
    }
   ],
   "source": [
    "random_df = []\n",
    "t_df = test_nucleotides(nucleotides = [3,4,5, -4,-5,-6])\n",
    "random_df.append(t_df)\n",
    "t_df, fitted_rf = test_nucleotides(nucleotides=[0,1,2,-3,-2,-1], return_model=True)\n",
    "random_df.append(t_df)\n",
    "random_df = pd.concat(random_df)"
   ]
  },
  {
   "cell_type": "code",
   "execution_count": 31,
   "metadata": {
    "collapsed": false
   },
   "outputs": [
    {
     "data": {
      "text/html": [
       "\n",
       "    <span>Matrix with 6 elements.</span>\n",
       "    <table>\n",
       "      <tbody>\n",
       "      <tr>\n",
       "      \n",
       "      <td>\n",
       "        54.108228\n",
       "      </td>\n",
       "      \n",
       "      <td>\n",
       "        58.265417\n",
       "      </td>\n",
       "      \n",
       "      <td>\n",
       "        36.674074\n",
       "      </td>\n",
       "      \n",
       "      <td>\n",
       "        26.849943\n",
       "      </td>\n",
       "      \n",
       "      <td>\n",
       "        32.308263\n",
       "      </td>\n",
       "      \n",
       "      <td>\n",
       "        172.965674\n",
       "      </td>\n",
       "      \n",
       "      </tr>\n",
       "      </tbody>\n",
       "    </table>\n",
       "    "
      ],
      "text/plain": [
       "R object with classes: ('matrix',) mapped to:\n",
       "<Matrix - Python:0x1a1d1faf08 / R:0x7fd76124c5f8>\n",
       "[54.108228, 58.265417, 36.674074, 26.849943, 32.308263, 172.965674]"
      ]
     },
     "execution_count": 31,
     "metadata": {},
     "output_type": "execute_result"
    }
   ],
   "source": [
    "fitted_rf.rx2('importance')"
   ]
  },
  {
   "cell_type": "code",
   "execution_count": 38,
   "metadata": {
    "collapsed": false
   },
   "outputs": [
    {
     "data": {
      "text/plain": [
       "array([  54.10822816,   58.265417  ,   36.674074  ,   26.84994257,\n",
       "         32.30826253,  172.9656736 ])"
      ]
     },
     "execution_count": 38,
     "metadata": {},
     "output_type": "execute_result"
    }
   ],
   "source": [
    "pandas2ri.ri2py_floatvector(fitted_rf.rx2('importance')).reshape(-1)"
   ]
  },
  {
   "cell_type": "code",
   "execution_count": 40,
   "metadata": {
    "collapsed": true
   },
   "outputs": [],
   "source": []
  },
  {
   "cell_type": "code",
   "execution_count": 41,
   "metadata": {
    "collapsed": false
   },
   "outputs": [
    {
     "name": "stderr",
     "output_type": "stream",
     "text": [
      "No handles with labels found to put in legend.\n",
      "No handles with labels found to put in legend.\n"
     ]
    },
    {
     "data": {
      "image/png": "[encoded data removed]",
      "text/plain": [
       "<Figure size 792x792 with 4 Axes>"
      ]
     },
     "metadata": {},
     "output_type": "display_data"
    }
   ],
   "source": [
    "prep_ce = color_encoder()\n",
    "\n",
    "plot_random_df = random_df \\\n",
    "    .groupby('label', as_index=False)\\\n",
    "    .apply(lambda D: pd.DataFrame({'r2':[r2_score(D.Y, D.predict)], \n",
    "                                   'label':[D.label.values[0]]})) \\\n",
    "    .merge(random_df) \\\n",
    "    .assign(label = lambda d: d.label + ' ($R^2: ' + d.r2.round(3).astype(str) + '$)')\\\n",
    "    .assign(colors = lambda d: prep_ce.fit_transform(d.label, simpsons_palette()[1:]))\n",
    "\n",
    "    \n",
    "fig = plt.figure(figsize = (11,11))\n",
    "biplot = fig.add_subplot(221)\n",
    "pcplot = fig.add_subplot(222)\n",
    "pca_df = make_pca_df()\n",
    "pca, pc_df = pca_biplot(pca_df, biplot)\n",
    "loading_plot(pca_df,pca, pcplot)\n",
    "\n",
    "\n",
    "ax = fig.add_subplot(223)\n",
    "for i, ((label, color), lab_df) in enumerate(plot_random_df.groupby(['label', 'colors'])):\n",
    "    sns.regplot(data = lab_df, \n",
    "            ax = ax,\n",
    "            color = color,\n",
    "            x = 'Y', \n",
    "            y = 'predict', \n",
    "            ci = None,\n",
    "            scatter_kws={'alpha':0.5},\n",
    "            line_kws = {'linestyle':':', 'alpha':0.7})\n",
    "    \n",
    "    ax.text(-1.7, -2.5 - i/2.5, label, fontsize=15, color = color)\n",
    "ax.plot([-5,3], [-5,3], color='red')\n",
    "ax.set_xlabel('Observed $\\Delta(log_{10} CPM)$ on test set')\n",
    "ax.set_ylabel('Predicted $\\Delta(log_{10} CPM)$ on test set')\n",
    "scale = np.arange(-3,3)\n",
    "ax.set_xticks(scale)\n",
    "ax.set_yticks(scale)\n",
    "ax.set_xlim(scale[0], scale[-1])\n",
    "ax.set_ylim(scale[0], scale[-1])\n",
    "\n",
    "\n",
    "\n",
    "ax = fig.add_subplot(224)\n",
    "var_df = pd.DataFrame({'imp_score':pandas2ri.ri2py_floatvector(fitted_rf.rx2('importance')).reshape(-1),\n",
    "                      'x': train_df.drop('Y', axis=1).columns }) \\\n",
    "    .sort_values('imp_score', ascending=False)\\\n",
    "    .assign(imp_score = lambda d: d.imp_score/d.imp_score.sum())\\\n",
    "    .assign(x = lambda d: d.x.map(rename_col))\\\n",
    "    .assign(color = lambda d: np.where(d.x.str.contains('-'), 'purple', 'darkgoldenrod'))\n",
    "sns.barplot(data = var_df, x = 'x', y = 'imp_score', \n",
    "            ax = ax, order = var_df['x'],\n",
    "            palette = var_df.color.tolist())\n",
    "ax.legend().set_visible(False)\n",
    "ax.set_xlabel('Position')\n",
    "ax.set_ylabel('Relative importance of position')\n",
    "\n",
    "fig.tight_layout()\n",
    "sns.despine()\n",
    "figurename = figure_path + '/rf_control.pdf'\n",
    "fig.savefig(figurename, bbox_inches='tight')\n",
    "figurename = figure_path + '/rf_control.eps'\n",
    "fig.savefig(figurename, bbox_inches='tight')"
   ]
  },
  {
   "cell_type": "code",
   "execution_count": 42,
   "metadata": {
    "collapsed": false
   },
   "outputs": [
    {
     "data": {
      "text/html": [
       "<div>\n",
       "<style scoped>\n",
       "    .dataframe tbody tr th:only-of-type {\n",
       "        vertical-align: middle;\n",
       "    }\n",
       "\n",
       "    .dataframe tbody tr th {\n",
       "        vertical-align: top;\n",
       "    }\n",
       "\n",
       "    .dataframe thead th {\n",
       "        text-align: right;\n",
       "    }\n",
       "</style>\n",
       "<table border=\"1\" class=\"dataframe\">\n",
       "  <thead>\n",
       "    <tr style=\"text-align: right;\">\n",
       "      <th></th>\n",
       "      <th>imp_score</th>\n",
       "    </tr>\n",
       "    <tr>\n",
       "      <th>color</th>\n",
       "      <th></th>\n",
       "    </tr>\n",
       "  </thead>\n",
       "  <tbody>\n",
       "    <tr>\n",
       "      <th>darkgoldenrod</th>\n",
       "      <td>0.391025</td>\n",
       "    </tr>\n",
       "    <tr>\n",
       "      <th>purple</th>\n",
       "      <td>0.608975</td>\n",
       "    </tr>\n",
       "  </tbody>\n",
       "</table>\n",
       "</div>"
      ],
      "text/plain": [
       "               imp_score\n",
       "color                   \n",
       "darkgoldenrod   0.391025\n",
       "purple          0.608975"
      ]
     },
     "execution_count": 42,
     "metadata": {},
     "output_type": "execute_result"
    }
   ],
   "source": [
    "var_df.groupby('color').agg({'imp_score':'sum'})"
   ]
  },
  {
   "cell_type": "markdown",
   "metadata": {},
   "source": [
    "# Corrections #\n",
    "\n",
    "Training the model on combined NTT dataset, and apply the model on other samples"
   ]
  },
  {
   "cell_type": "code",
   "execution_count": 44,
   "metadata": {
    "collapsed": false
   },
   "outputs": [
    {
     "name": "stderr",
     "output_type": "stream",
     "text": [
      "/Users/wckdouglas/miniconda3/lib/python3.6/site-packages/pandas/io/feather_format.py:112: FutureWarning: `nthreads` argument is deprecated, pass `use_threads` instead\n",
      "  return feather.read_dataframe(path, nthreads=nthreads)\n"
     ]
    },
    {
     "data": {
      "text/html": [
       "<div>\n",
       "<style scoped>\n",
       "    .dataframe tbody tr th:only-of-type {\n",
       "        vertical-align: middle;\n",
       "    }\n",
       "\n",
       "    .dataframe tbody tr th {\n",
       "        vertical-align: top;\n",
       "    }\n",
       "\n",
       "    .dataframe thead th {\n",
       "        text-align: right;\n",
       "    }\n",
       "</style>\n",
       "<table border=\"1\" class=\"dataframe\">\n",
       "  <thead>\n",
       "    <tr style=\"text-align: right;\">\n",
       "      <th></th>\n",
       "      <th>index</th>\n",
       "      <th>seq_id</th>\n",
       "      <th>seq_count</th>\n",
       "      <th>samplename</th>\n",
       "      <th>cpm</th>\n",
       "      <th>prep</th>\n",
       "      <th>head0</th>\n",
       "      <th>head1</th>\n",
       "      <th>head2</th>\n",
       "      <th>tail0</th>\n",
       "      <th>tail1</th>\n",
       "      <th>tail2</th>\n",
       "    </tr>\n",
       "  </thead>\n",
       "  <tbody>\n",
       "    <tr>\n",
       "      <th>0</th>\n",
       "      <td>0</td>\n",
       "      <td>EBV-10</td>\n",
       "      <td>128</td>\n",
       "      <td>NTT5_noTA</td>\n",
       "      <td>30.911005</td>\n",
       "      <td>NTT-noTA</td>\n",
       "      <td>T</td>\n",
       "      <td>A</td>\n",
       "      <td>C</td>\n",
       "      <td>T</td>\n",
       "      <td>G</td>\n",
       "      <td>T</td>\n",
       "    </tr>\n",
       "    <tr>\n",
       "      <th>1</th>\n",
       "      <td>0</td>\n",
       "      <td>EBV-10</td>\n",
       "      <td>430</td>\n",
       "      <td>MiR_NTM2</td>\n",
       "      <td>41.924719</td>\n",
       "      <td>Diaminopurine</td>\n",
       "      <td>T</td>\n",
       "      <td>A</td>\n",
       "      <td>C</td>\n",
       "      <td>T</td>\n",
       "      <td>G</td>\n",
       "      <td>T</td>\n",
       "    </tr>\n",
       "    <tr>\n",
       "      <th>2</th>\n",
       "      <td>0</td>\n",
       "      <td>EBV-10</td>\n",
       "      <td>285</td>\n",
       "      <td>MiR_R3</td>\n",
       "      <td>44.457360</td>\n",
       "      <td>NTC</td>\n",
       "      <td>T</td>\n",
       "      <td>A</td>\n",
       "      <td>C</td>\n",
       "      <td>T</td>\n",
       "      <td>G</td>\n",
       "      <td>T</td>\n",
       "    </tr>\n",
       "    <tr>\n",
       "      <th>3</th>\n",
       "      <td>0</td>\n",
       "      <td>EBV-10</td>\n",
       "      <td>1140</td>\n",
       "      <td>MiR_NTTR2</td>\n",
       "      <td>108.568575</td>\n",
       "      <td>NTTR</td>\n",
       "      <td>T</td>\n",
       "      <td>A</td>\n",
       "      <td>C</td>\n",
       "      <td>T</td>\n",
       "      <td>G</td>\n",
       "      <td>T</td>\n",
       "    </tr>\n",
       "    <tr>\n",
       "      <th>4</th>\n",
       "      <td>0</td>\n",
       "      <td>EBV-10</td>\n",
       "      <td>254</td>\n",
       "      <td>MiR_NTT2</td>\n",
       "      <td>23.778512</td>\n",
       "      <td>NTT</td>\n",
       "      <td>T</td>\n",
       "      <td>A</td>\n",
       "      <td>C</td>\n",
       "      <td>T</td>\n",
       "      <td>G</td>\n",
       "      <td>T</td>\n",
       "    </tr>\n",
       "  </tbody>\n",
       "</table>\n",
       "</div>"
      ],
      "text/plain": [
       "   index  seq_id  seq_count samplename         cpm           prep head0 head1  \\\n",
       "0      0  EBV-10        128  NTT5_noTA   30.911005       NTT-noTA     T     A   \n",
       "1      0  EBV-10        430   MiR_NTM2   41.924719  Diaminopurine     T     A   \n",
       "2      0  EBV-10        285     MiR_R3   44.457360            NTC     T     A   \n",
       "3      0  EBV-10       1140  MiR_NTTR2  108.568575           NTTR     T     A   \n",
       "4      0  EBV-10        254   MiR_NTT2   23.778512            NTT     T     A   \n",
       "\n",
       "  head2 tail0 tail1 tail2  \n",
       "0     C     T     G     T  \n",
       "1     C     T     G     T  \n",
       "2     C     T     G     T  \n",
       "3     C     T     G     T  \n",
       "4     C     T     G     T  "
      ]
     },
     "execution_count": 44,
     "metadata": {},
     "output_type": "execute_result"
    }
   ],
   "source": [
    "df = pd.read_feather('../data/miR_count.feather')  \\\n",
    "    .merge(get_seq_base(shuffle = [0,1,2,-3,-2,-1])) \n",
    "df.head()"
   ]
  },
  {
   "cell_type": "code",
   "execution_count": 47,
   "metadata": {
    "collapsed": false
   },
   "outputs": [
    {
     "data": {
      "text/html": [
       "<div>\n",
       "<style scoped>\n",
       "    .dataframe tbody tr th:only-of-type {\n",
       "        vertical-align: middle;\n",
       "    }\n",
       "\n",
       "    .dataframe tbody tr th {\n",
       "        vertical-align: top;\n",
       "    }\n",
       "\n",
       "    .dataframe thead th {\n",
       "        text-align: right;\n",
       "    }\n",
       "</style>\n",
       "<table border=\"1\" class=\"dataframe\">\n",
       "  <thead>\n",
       "    <tr style=\"text-align: right;\">\n",
       "      <th></th>\n",
       "      <th>head0</th>\n",
       "      <th>head1</th>\n",
       "      <th>head2</th>\n",
       "      <th>tail0</th>\n",
       "      <th>tail1</th>\n",
       "      <th>tail2</th>\n",
       "      <th>Y</th>\n",
       "    </tr>\n",
       "  </thead>\n",
       "  <tbody>\n",
       "    <tr>\n",
       "      <th>0</th>\n",
       "      <td>T</td>\n",
       "      <td>A</td>\n",
       "      <td>A</td>\n",
       "      <td>G</td>\n",
       "      <td>T</td>\n",
       "      <td>T</td>\n",
       "      <td>-1.946879</td>\n",
       "    </tr>\n",
       "    <tr>\n",
       "      <th>1</th>\n",
       "      <td>T</td>\n",
       "      <td>A</td>\n",
       "      <td>T</td>\n",
       "      <td>T</td>\n",
       "      <td>G</td>\n",
       "      <td>A</td>\n",
       "      <td>0.082039</td>\n",
       "    </tr>\n",
       "    <tr>\n",
       "      <th>2</th>\n",
       "      <td>A</td>\n",
       "      <td>A</td>\n",
       "      <td>A</td>\n",
       "      <td>A</td>\n",
       "      <td>G</td>\n",
       "      <td>C</td>\n",
       "      <td>-1.150695</td>\n",
       "    </tr>\n",
       "    <tr>\n",
       "      <th>3</th>\n",
       "      <td>T</td>\n",
       "      <td>A</td>\n",
       "      <td>A</td>\n",
       "      <td>A</td>\n",
       "      <td>C</td>\n",
       "      <td>A</td>\n",
       "      <td>-0.951889</td>\n",
       "    </tr>\n",
       "    <tr>\n",
       "      <th>4</th>\n",
       "      <td>T</td>\n",
       "      <td>A</td>\n",
       "      <td>G</td>\n",
       "      <td>G</td>\n",
       "      <td>T</td>\n",
       "      <td>C</td>\n",
       "      <td>-0.983703</td>\n",
       "    </tr>\n",
       "  </tbody>\n",
       "</table>\n",
       "</div>"
      ],
      "text/plain": [
       "  head0 head1 head2 tail0 tail1 tail2         Y\n",
       "0     T     A     A     G     T     T -1.946879\n",
       "1     T     A     T     T     G     A  0.082039\n",
       "2     A     A     A     A     G     C -1.150695\n",
       "3     T     A     A     A     C     A -0.951889\n",
       "4     T     A     G     G     T     C -0.983703"
      ]
     },
     "execution_count": 47,
     "metadata": {},
     "output_type": "execute_result"
    }
   ],
   "source": [
    "train_df =  df.groupby([\"prep\",\"seq_id\"], as_index=False) \\\n",
    "    .agg({'seq_count':'sum'})\\\n",
    "    .merge(get_seq_base(shuffle = [0,1,2,-3,-2,-1]))\\\n",
    "    .assign(cpm = lambda d: d.groupby('prep').seq_count.transform(count_to_cpm))\\\n",
    "    .assign(expected_cpm = lambda d: 1e6 / 962) \\\n",
    "    .assign(Y = lambda d: np.log10(d['cpm']) - np.log10(d['expected_cpm']))  \\\n",
    "    .query('prep == \"NTT\"')\\\n",
    "    .reset_index() \\\n",
    "    .filter(regex='head|tail|Y') \\\n",
    "    .pipe(train_to_cat)\n",
    "train_df.head()"
   ]
  },
  {
   "cell_type": "code",
   "execution_count": 48,
   "metadata": {
    "collapsed": true
   },
   "outputs": [],
   "source": [
    "r_train_df = pandas2ri.DataFrame(train_df)\n",
    "formula = Formula('Y~.')\n",
    "final_model = rf.randomForest(formula = formula, data = r_train_df)"
   ]
  },
  {
   "cell_type": "code",
   "execution_count": null,
   "metadata": {
    "collapsed": true
   },
   "outputs": [],
   "source": [
    "corrected_df = df \\\n",
    "    .assign(predicted = pandas2ri.ri2py_vector(stats.predict(final_model, pandas2ri.DataFrame(df))))\\\n",
    "    .assign(log10_cpm = lambda d: np.log10(d.cpm))\\\n",
    "    .assign(pseudocount = lambda d: np.power(10, d.log10_cpm - d.predicted)) \\\n",
    "    .filter(regex='seq|sample|count|prep')\\\n",
    "    .pipe(pd.melt, id_vars = ['seq_id','prep','samplename'], var_name = 'count_type', value_name = 'seq_count') \\\n",
    "    .query('count_type != \"seq_count\"')\\\n",
    "    .assign(samplename = lambda d: d.samplename + ' (Corrected)')\\\n",
    "    .assign(prep = lambda d: d.prep + ' (Corrected)')\\\n",
    "    .drop('count_type', axis=1) \\\n",
    "    .reset_index()\n",
    "corrected_df.to_feather('corrected_count.feather')\n",
    "corrected_df.head()"
   ]
  }
 ],
 "metadata": {
  "kernelspec": {
   "display_name": "Python 3",
   "language": "python",
   "name": "python3"
  },
  "language_info": {
   "codemirror_mode": {
    "name": "ipython",
    "version": 3
   },
   "file_extension": ".py",
   "mimetype": "text/x-python",
   "name": "python",
   "nbconvert_exporter": "python",
   "pygments_lexer": "ipython3",
   "version": "3.4.3"
  }
 },
 "nbformat": 4,
 "nbformat_minor": 2
}
