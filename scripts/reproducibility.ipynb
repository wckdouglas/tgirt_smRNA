{
 "cells": [
  {
   "cell_type": "code",
   "execution_count": 26,
   "metadata": {
    "collapsed": false
   },
   "outputs": [],
   "source": [
    "%matplotlib inline\n",
    "\n",
    "import pandas as pd\n",
    "import matplotlib.pyplot as plt\n",
    "import seaborn as sns\n",
    "from scipy.stats import poisson, variation\n",
    "import numpy as np\n",
    "from scipy.optimize import minimize\n",
    "from sklearn.metrics import mean_squared_error, r2_score\n",
    "from sequencing_tools.viz_tools import color_encoder\n",
    "plt.rc('axes', labelsize=15)\n",
    "plt.rc('xtick', labelsize=15)\n",
    "plt.rc('ytick', labelsize=15)\n",
    "\n",
    "def model_var(phi, mu):\n",
    "    return mu * (1 + phi * mu)\n",
    "    \n",
    "def model_cv(phi, mu):\n",
    "    var = model_var(phi, mu)\n",
    "    cv = np.sqrt(var) / mu\n",
    "    return cv\n",
    "\n",
    "def fit_dispersion(phi, mu, var):\n",
    "    pred_var = model_var(phi, mu)\n",
    "    return mean_squared_error(var, pred_var)"
   ]
  },
  {
   "cell_type": "markdown",
   "metadata": {},
   "source": [
    "For RNA-seq, [variance](https://academic.oup.com/nar/article/45/11/e104/3091649) can be modeled by:\n",
    "\n",
    "$$ \\sigma^2 = \\mu (1+\\phi \\mu)  $$"
   ]
  },
  {
   "cell_type": "code",
   "execution_count": 2,
   "metadata": {
    "collapsed": false
   },
   "outputs": [
    {
     "data": {
      "text/html": [
       "<div>\n",
       "<style scoped>\n",
       "    .dataframe tbody tr th:only-of-type {\n",
       "        vertical-align: middle;\n",
       "    }\n",
       "\n",
       "    .dataframe tbody tr th {\n",
       "        vertical-align: top;\n",
       "    }\n",
       "\n",
       "    .dataframe thead th {\n",
       "        text-align: right;\n",
       "    }\n",
       "</style>\n",
       "<table border=\"1\" class=\"dataframe\">\n",
       "  <thead>\n",
       "    <tr style=\"text-align: right;\">\n",
       "      <th></th>\n",
       "      <th>NTCF1</th>\n",
       "      <th>NTCF2</th>\n",
       "      <th>NTCF3</th>\n",
       "      <th>NTTF1</th>\n",
       "      <th>NTTF2</th>\n",
       "      <th>NTTF3</th>\n",
       "      <th>seq_id</th>\n",
       "    </tr>\n",
       "  </thead>\n",
       "  <tbody>\n",
       "    <tr>\n",
       "      <th>100169835</th>\n",
       "      <td>0.000000</td>\n",
       "      <td>0.000000</td>\n",
       "      <td>0.000000</td>\n",
       "      <td>0.343471</td>\n",
       "      <td>0.000000</td>\n",
       "      <td>0.000000</td>\n",
       "      <td>0</td>\n",
       "    </tr>\n",
       "    <tr>\n",
       "      <th>100169836</th>\n",
       "      <td>1.702180</td>\n",
       "      <td>1.137944</td>\n",
       "      <td>0.000000</td>\n",
       "      <td>1.030413</td>\n",
       "      <td>0.417699</td>\n",
       "      <td>0.000000</td>\n",
       "      <td>1</td>\n",
       "    </tr>\n",
       "    <tr>\n",
       "      <th>100169837</th>\n",
       "      <td>66.385017</td>\n",
       "      <td>120.242700</td>\n",
       "      <td>48.253331</td>\n",
       "      <td>102.697851</td>\n",
       "      <td>86.254941</td>\n",
       "      <td>37.280053</td>\n",
       "      <td>2</td>\n",
       "    </tr>\n",
       "    <tr>\n",
       "      <th>100379658</th>\n",
       "      <td>5.787412</td>\n",
       "      <td>11.758750</td>\n",
       "      <td>3.760000</td>\n",
       "      <td>7.899835</td>\n",
       "      <td>6.056642</td>\n",
       "      <td>2.982404</td>\n",
       "      <td>3</td>\n",
       "    </tr>\n",
       "    <tr>\n",
       "      <th>100379663</th>\n",
       "      <td>2.383052</td>\n",
       "      <td>1.517258</td>\n",
       "      <td>0.000000</td>\n",
       "      <td>1.717355</td>\n",
       "      <td>2.088497</td>\n",
       "      <td>1.864003</td>\n",
       "      <td>4</td>\n",
       "    </tr>\n",
       "  </tbody>\n",
       "</table>\n",
       "</div>"
      ],
      "text/plain": [
       "               NTCF1       NTCF2      NTCF3       NTTF1      NTTF2      NTTF3  \\\n",
       "100169835   0.000000    0.000000   0.000000    0.343471   0.000000   0.000000   \n",
       "100169836   1.702180    1.137944   0.000000    1.030413   0.417699   0.000000   \n",
       "100169837  66.385017  120.242700  48.253331  102.697851  86.254941  37.280053   \n",
       "100379658   5.787412   11.758750   3.760000    7.899835   6.056642   2.982404   \n",
       "100379663   2.383052    1.517258   0.000000    1.717355   2.088497   1.864003   \n",
       "\n",
       "           seq_id  \n",
       "100169835       0  \n",
       "100169836       1  \n",
       "100169837       2  \n",
       "100379658       3  \n",
       "100379663       4  "
      ]
     },
     "execution_count": 2,
     "metadata": {},
     "output_type": "execute_result"
    }
   ],
   "source": [
    "df = pd.read_table('../data/NTT_norm.counts') \\\n",
    "    .assign(seq_id = lambda d: np.arange(d.shape[0]))\n",
    "df.head()"
   ]
  },
  {
   "cell_type": "code",
   "execution_count": 3,
   "metadata": {
    "collapsed": false
   },
   "outputs": [
    {
     "name": "stderr",
     "output_type": "stream",
     "text": [
      "/stor/work/Lambowitz/cdw2854/src/miniconda3/lib/python3.6/site-packages/scipy/stats/stats.py:999: RuntimeWarning: invalid value encountered in double_scalars\n",
      "  return a.std(axis) / a.mean(axis)\n"
     ]
    },
    {
     "data": {
      "text/html": [
       "<div>\n",
       "<style scoped>\n",
       "    .dataframe tbody tr th:only-of-type {\n",
       "        vertical-align: middle;\n",
       "    }\n",
       "\n",
       "    .dataframe tbody tr th {\n",
       "        vertical-align: top;\n",
       "    }\n",
       "\n",
       "    .dataframe thead th {\n",
       "        text-align: right;\n",
       "    }\n",
       "</style>\n",
       "<table border=\"1\" class=\"dataframe\">\n",
       "  <thead>\n",
       "    <tr style=\"text-align: right;\">\n",
       "      <th></th>\n",
       "      <th>seq_id</th>\n",
       "      <th>prep</th>\n",
       "      <th>norm_countmean</th>\n",
       "      <th>norm_countstd</th>\n",
       "      <th>norm_countvar</th>\n",
       "      <th>norm_countvariation</th>\n",
       "    </tr>\n",
       "  </thead>\n",
       "  <tbody>\n",
       "    <tr>\n",
       "      <th>0</th>\n",
       "      <td>0</td>\n",
       "      <td>NTCF</td>\n",
       "      <td>0.000000</td>\n",
       "      <td>0.000000</td>\n",
       "      <td>0.000000</td>\n",
       "      <td>NaN</td>\n",
       "    </tr>\n",
       "    <tr>\n",
       "      <th>1</th>\n",
       "      <td>0</td>\n",
       "      <td>NTTF</td>\n",
       "      <td>0.114490</td>\n",
       "      <td>0.198303</td>\n",
       "      <td>0.039324</td>\n",
       "      <td>1.414214</td>\n",
       "    </tr>\n",
       "    <tr>\n",
       "      <th>2</th>\n",
       "      <td>1</td>\n",
       "      <td>NTCF</td>\n",
       "      <td>0.946708</td>\n",
       "      <td>0.867054</td>\n",
       "      <td>0.751782</td>\n",
       "      <td>0.747798</td>\n",
       "    </tr>\n",
       "    <tr>\n",
       "      <th>3</th>\n",
       "      <td>1</td>\n",
       "      <td>NTTF</td>\n",
       "      <td>0.482704</td>\n",
       "      <td>0.518273</td>\n",
       "      <td>0.268607</td>\n",
       "      <td>0.876662</td>\n",
       "    </tr>\n",
       "    <tr>\n",
       "      <th>4</th>\n",
       "      <td>2</td>\n",
       "      <td>NTCF</td>\n",
       "      <td>78.293683</td>\n",
       "      <td>37.443018</td>\n",
       "      <td>1401.979578</td>\n",
       "      <td>0.390480</td>\n",
       "    </tr>\n",
       "  </tbody>\n",
       "</table>\n",
       "</div>"
      ],
      "text/plain": [
       "   seq_id  prep  norm_countmean  norm_countstd  norm_countvar  \\\n",
       "0       0  NTCF        0.000000       0.000000       0.000000   \n",
       "1       0  NTTF        0.114490       0.198303       0.039324   \n",
       "2       1  NTCF        0.946708       0.867054       0.751782   \n",
       "3       1  NTTF        0.482704       0.518273       0.268607   \n",
       "4       2  NTCF       78.293683      37.443018    1401.979578   \n",
       "\n",
       "   norm_countvariation  \n",
       "0                  NaN  \n",
       "1             1.414214  \n",
       "2             0.747798  \n",
       "3             0.876662  \n",
       "4             0.390480  "
      ]
     },
     "execution_count": 3,
     "metadata": {},
     "output_type": "execute_result"
    }
   ],
   "source": [
    "mv_df = pd.melt(df, id_vars = ['seq_id'], var_name = 'samplename', value_name = 'norm_count')\\\n",
    "    .assign(prep = lambda d: d.samplename.str.replace('[0-9]+$',''))\\\n",
    "    .groupby(['seq_id','prep'], as_index=False) \\\n",
    "    .agg({'norm_count':['mean','std','var',variation]}) \n",
    "new_col = mv_df.columns.get_level_values(0) + mv_df.columns.get_level_values(1)\n",
    "mv_df.columns = new_col\n",
    "\n",
    "mv_df.head()"
   ]
  },
  {
   "cell_type": "code",
   "execution_count": 31,
   "metadata": {
    "collapsed": false
   },
   "outputs": [
    {
     "data": {
      "image/png": "[encoded data removed]",
      "text/plain": [
       "<Figure size 432x288 with 1 Axes>"
      ]
     },
     "metadata": {
      "needs_background": "light"
     },
     "output_type": "display_data"
    }
   ],
   "source": [
    "ax = plt.subplot(111)\n",
    "prep_ce = color_encoder()\n",
    "prep_ce.fit(mv_df.prep.unique())\n",
    "for i, (prep, prep_d) in enumerate(mv_df.groupby('prep')):\n",
    "    \n",
    "    sub_d = prep_d[prep_d['norm_countmean'] > 10]\n",
    "    gene_mu = sub_d['norm_countmean']\n",
    "    gene_cv =  sub_d['norm_countvariation']\n",
    "    gene_var = sub_d['norm_countvar']\n",
    "    \n",
    "    fitted = minimize(fit_dispersion, [2], args = (gene_mu, gene_var))\n",
    "    phi = fitted.x[0]\n",
    "    \n",
    "    modeled_mean = np.arange(gene_mu.min(), 100, 0.1)\n",
    "    modeled_mean = np.append(modeled_mean, np.arange(100, gene_mu.max()))\n",
    "    modeled_var = model_var(phi, modeled_mean)\n",
    "    modeled_std = np.sqrt(modeled_var) / modeled_mean\n",
    "    modeled_cv = modeled_std/modeled_mean\n",
    "    \n",
    "    color = prep_ce.encoder[prep]\n",
    "    disp = prep + ' (Fitted $\\phi$: %.3f)' %phi\n",
    "    ax.plot(np.log(modeled_mean), modeled_cv*100, color = color)\n",
    "    ax.scatter(np.log(gene_mu), gene_cv, alpha=0.2, color = color)\n",
    "    ax.text(8,6 - i, disp, fontsize=15, color = color)\n",
    "ax.set_xlim(2, 14)\n",
    "ax.set_ylim(-1,10)  \n",
    "ax.set_xlabel('log(mean normalized count)')\n",
    "ax.set_ylabel('Coefficient of variation (%)')\n",
    "ax.set_title(r'$\\sigma^2 = \\mu (1+\\phi \\mu)$', size=15)\n",
    "sns.despine()"
   ]
  },
  {
   "cell_type": "code",
   "execution_count": 99,
   "metadata": {
    "collapsed": false
   },
   "outputs": [],
   "source": [
    "def plot_mean_var(mv_df, ax, log_scale=False):\n",
    "    prep_ce = color_encoder()\n",
    "    prep_ce.fit(mv_df.prep.unique())\n",
    "    \n",
    "    for i, (prep, prep_d) in enumerate(mv_df.groupby('prep')):\n",
    "    \n",
    "        gene_mu = prep_d['norm_countmean']\n",
    "        gene_cv =  prep_d['norm_countvariation']\n",
    "        gene_var = prep_d['norm_countvar']\n",
    "    \n",
    "        fitted = minimize(fit_dispersion, [2], args = (gene_mu, gene_var))\n",
    "        phi = fitted.x[0]\n",
    "    \n",
    "        modeled_mean = np.arange(gene_mu.min(), 100, 0.1)\n",
    "        modeled_mean = np.append(modeled_mean, np.arange(100, gene_mu.max()))\n",
    "        modeled_var = model_var(phi, modeled_mean)\n",
    "        modeled_std = np.sqrt(modeled_var) / modeled_mean\n",
    "        modeled_cv = modeled_std/modeled_mean\n",
    "    \n",
    "    \n",
    "        color = prep_ce.encoder[prep]\n",
    "        disp = prep + ' ($\\phi$: %.3f)' %phi\n",
    "    \n",
    "        if log_scale:\n",
    "            ax.plot(np.log(modeled_mean), np.log(modeled_var), color = color)\n",
    "            ax.scatter(np.log(gene_mu), np.log(gene_var), alpha=0.1, color = color)\n",
    "            ax.text(1, 18 - i*2, disp, fontsize=15, color = color)\n",
    "    \n",
    "        else:\n",
    "            ax.plot(modeled_mean, modeled_var, color = color)\n",
    "            ax.scatter(gene_mu, gene_var, color = color, alpha=0.8)\n",
    "            ax.text(1e5, 1e9 - i*1e8, disp, fontsize=15, color = color)\n",
    "\n",
    "    if log_scale:\n",
    "        ax.set_xlim(0,12)\n",
    "        ax.set_ylim(0,20)\n",
    "        ax.set_xlabel('log($\\mu$)')\n",
    "        ax.set_ylabel('log($\\sigma^2$)')\n",
    "        \n",
    "    else:\n",
    "        xt = np.arange(0,mv_df.norm_countmean.max(), 5e4)\n",
    "        ax.set_xlim(0, mv_df.norm_countmean.max())\n",
    "        ax.set_xticks(xt)\n",
    "        ax.set_xticklabels(xt, rotation = 70,\n",
    "                          rotation_mode = 'anchor', ha = 'right')\n",
    "        ax.set_xlabel('$\\mu$')\n",
    "        ax.set_ylabel('$\\sigma^2$')\n",
    "\n",
    "    ax.plot([0,1e9], [0,1e9], color='red')\n",
    "    sns.despine()\n",
    "\n",
    "    ax.set_title(r'$\\sigma^2 = \\mu (1+\\phi \\mu)$', size=15)"
   ]
  },
  {
   "cell_type": "code",
   "execution_count": null,
   "metadata": {
    "collapsed": false
   },
   "outputs": [
    {
     "name": "stderr",
     "output_type": "stream",
     "text": [
      "/stor/work/Lambowitz/cdw2854/src/miniconda3/lib/python3.6/site-packages/ipykernel_launcher.py:17: RuntimeWarning: divide by zero encountered in true_divide\n",
      "/stor/work/Lambowitz/cdw2854/src/miniconda3/lib/python3.6/site-packages/ipykernel_launcher.py:17: RuntimeWarning: invalid value encountered in true_divide\n",
      "/stor/work/Lambowitz/cdw2854/src/miniconda3/lib/python3.6/site-packages/ipykernel_launcher.py:18: RuntimeWarning: divide by zero encountered in true_divide\n",
      "/stor/work/Lambowitz/cdw2854/src/miniconda3/lib/python3.6/site-packages/ipykernel_launcher.py:17: RuntimeWarning: divide by zero encountered in true_divide\n",
      "/stor/work/Lambowitz/cdw2854/src/miniconda3/lib/python3.6/site-packages/ipykernel_launcher.py:17: RuntimeWarning: invalid value encountered in true_divide\n",
      "/stor/work/Lambowitz/cdw2854/src/miniconda3/lib/python3.6/site-packages/ipykernel_launcher.py:18: RuntimeWarning: divide by zero encountered in true_divide\n"
     ]
    }
   ],
   "source": [
    "fig = plt.figure()\n",
    "ax = fig.add_subplot(111)\n",
    "plot_mean_var(mv_df, ax, log_scale = False)\n",
    "fig.savefig('../figures/mean_var_plot.eps')"
   ]
  },
  {
   "cell_type": "code",
   "execution_count": null,
   "metadata": {
    "collapsed": false
   },
   "outputs": [],
   "source": [
    "fig = plt.figure()\n",
    "ax = fig.add_subplot(111)\n",
    "plot_mean_var(mv_df, ax, log_scale = True)\n",
    "fig.savefig('../figures/mean_var_plot_log.eps')"
   ]
  },
  {
   "cell_type": "code",
   "execution_count": null,
   "metadata": {
    "collapsed": true
   },
   "outputs": [],
   "source": []
  }
 ],
 "metadata": {
  "kernelspec": {
   "display_name": "miniconda3",
   "language": "python",
   "name": "miniconda3"
  },
  "language_info": {
   "codemirror_mode": {
    "name": "ipython",
    "version": 3
   },
   "file_extension": ".py",
   "mimetype": "text/x-python",
   "name": "python",
   "nbconvert_exporter": "python",
   "pygments_lexer": "ipython3",
   "version": "3.6.4"
  }
 },
 "nbformat": 4,
 "nbformat_minor": 2
}
