{
 "cells": [
  {
   "cell_type": "code",
   "execution_count": 84,
   "metadata": {
    "collapsed": true
   },
   "outputs": [],
   "source": [
    "%matplotlib inline\n",
    "\n",
    "import matplotlib.pyplot as plt\n",
    "import pandas as pd\n",
    "import seaborn as sns\n",
    "import pickle\n",
    "import numpy as np\n",
    "from sequencing_tools.viz_tools import color_encoder\n",
    "plt.rc('axes', labelsize=20)\n",
    "plt.rc('xtick', labelsize = 20)\n",
    "plt.rc('ytick', labelsize = 20)\n",
    "plt.rc('font', **{'family':'sans-serif',\n",
    "                  'sans-serif':'Arial'})"
   ]
  },
  {
   "cell_type": "code",
   "execution_count": 70,
   "metadata": {
    "collapsed": true
   },
   "outputs": [],
   "source": [
    "with open('/stor/work/Lambowitz/cdw2854/miRNA/ercc/weight.pkl', 'rb') as index:\n",
    "    weights = pickle.load(index)"
   ]
  },
  {
   "cell_type": "code",
   "execution_count": 71,
   "metadata": {
    "collapsed": false
   },
   "outputs": [
    {
     "data": {
      "text/plain": [
       "<matplotlib.axes._subplots.AxesSubplot at 0x7fb932dffe48>"
      ]
     },
     "execution_count": 71,
     "metadata": {},
     "output_type": "execute_result"
    },
    {
     "data": {
      "image/png": "[encoded data removed]",
      "text/plain": [
       "<Figure size 432x288 with 1 Axes>"
      ]
     },
     "metadata": {
      "needs_background": "light"
     },
     "output_type": "display_data"
    }
   ],
   "source": [
    "pd.DataFrame().from_dict(weights, orient='index', columns=['weight']) \\\n",
    "    .nlargest(15, 'weight')\\\n",
    "    .plot.bar()"
   ]
  },
  {
   "cell_type": "code",
   "execution_count": 72,
   "metadata": {
    "collapsed": false
   },
   "outputs": [
    {
     "name": "stderr",
     "output_type": "stream",
     "text": [
      "/stor/work/Lambowitz/cdw2854/src/miniconda3/lib/python3.6/site-packages/pandas/io/feather_format.py:124: FutureWarning: `nthreads` argument is deprecated, pass `use_threads` instead\n",
      "  nthreads=int_use_threads)\n",
      "/stor/work/Lambowitz/cdw2854/src/miniconda3/lib/python3.6/site-packages/pyarrow/pandas_compat.py:751: FutureWarning: .labels was deprecated in version 0.24.0. Use .codes instead.\n",
      "  labels, = index.labels\n"
     ]
    },
    {
     "data": {
      "text/html": [
       "<div>\n",
       "<style scoped>\n",
       "    .dataframe tbody tr th:only-of-type {\n",
       "        vertical-align: middle;\n",
       "    }\n",
       "\n",
       "    .dataframe tbody tr th {\n",
       "        vertical-align: top;\n",
       "    }\n",
       "\n",
       "    .dataframe thead th {\n",
       "        text-align: right;\n",
       "    }\n",
       "</style>\n",
       "<table border=\"1\" class=\"dataframe\">\n",
       "  <thead>\n",
       "    <tr style=\"text-align: right;\">\n",
       "      <th></th>\n",
       "      <th>mir</th>\n",
       "      <th>MTT1_corrected</th>\n",
       "      <th>MTT1_filter</th>\n",
       "      <th>MTT2_corrected</th>\n",
       "      <th>MTT2_filter</th>\n",
       "      <th>MTT3_corrected</th>\n",
       "      <th>MTT3_filter</th>\n",
       "      <th>NTC1_corrected</th>\n",
       "      <th>NTC1_filter</th>\n",
       "      <th>NTC2_corrected</th>\n",
       "      <th>...</th>\n",
       "      <th>NTT3_corrected</th>\n",
       "      <th>NTT3_filter</th>\n",
       "      <th>NTT6N_corrected</th>\n",
       "      <th>NTT6N_filter</th>\n",
       "      <th>NTTR1_corrected</th>\n",
       "      <th>NTTR1_filter</th>\n",
       "      <th>NTTR2_corrected</th>\n",
       "      <th>NTTR2_filter</th>\n",
       "      <th>NTTR3_corrected</th>\n",
       "      <th>NTTR3_filter</th>\n",
       "    </tr>\n",
       "  </thead>\n",
       "  <tbody>\n",
       "    <tr>\n",
       "      <th>0</th>\n",
       "      <td>EBV-1-1</td>\n",
       "      <td>480.484999</td>\n",
       "      <td>6287.0</td>\n",
       "      <td>504.320955</td>\n",
       "      <td>11303.0</td>\n",
       "      <td>550.909158</td>\n",
       "      <td>12095.0</td>\n",
       "      <td>288.231209</td>\n",
       "      <td>5890.0</td>\n",
       "      <td>169.532884</td>\n",
       "      <td>...</td>\n",
       "      <td>267.576013</td>\n",
       "      <td>5639.0</td>\n",
       "      <td>257.078809</td>\n",
       "      <td>5057.0</td>\n",
       "      <td>1424.424699</td>\n",
       "      <td>22060.0</td>\n",
       "      <td>1025.424174</td>\n",
       "      <td>20639.0</td>\n",
       "      <td>2520.514763</td>\n",
       "      <td>46991.0</td>\n",
       "    </tr>\n",
       "    <tr>\n",
       "      <th>1</th>\n",
       "      <td>EBV-1-2</td>\n",
       "      <td>5334.375850</td>\n",
       "      <td>305147.0</td>\n",
       "      <td>6384.205324</td>\n",
       "      <td>369161.0</td>\n",
       "      <td>7037.846078</td>\n",
       "      <td>396818.0</td>\n",
       "      <td>7502.694319</td>\n",
       "      <td>449568.0</td>\n",
       "      <td>7164.884498</td>\n",
       "      <td>...</td>\n",
       "      <td>10174.543667</td>\n",
       "      <td>592579.0</td>\n",
       "      <td>6285.707165</td>\n",
       "      <td>386929.0</td>\n",
       "      <td>5714.730298</td>\n",
       "      <td>284681.0</td>\n",
       "      <td>4374.065288</td>\n",
       "      <td>254675.0</td>\n",
       "      <td>5089.448822</td>\n",
       "      <td>310512.0</td>\n",
       "    </tr>\n",
       "    <tr>\n",
       "      <th>2</th>\n",
       "      <td>EBV-1-2-star</td>\n",
       "      <td>662.832977</td>\n",
       "      <td>19552.0</td>\n",
       "      <td>1086.531618</td>\n",
       "      <td>26014.0</td>\n",
       "      <td>1544.005770</td>\n",
       "      <td>36634.0</td>\n",
       "      <td>228.112987</td>\n",
       "      <td>7892.0</td>\n",
       "      <td>305.554771</td>\n",
       "      <td>...</td>\n",
       "      <td>1148.545614</td>\n",
       "      <td>32420.0</td>\n",
       "      <td>1005.908357</td>\n",
       "      <td>31148.0</td>\n",
       "      <td>861.746060</td>\n",
       "      <td>23114.0</td>\n",
       "      <td>873.866329</td>\n",
       "      <td>26926.0</td>\n",
       "      <td>1257.581071</td>\n",
       "      <td>37018.0</td>\n",
       "    </tr>\n",
       "    <tr>\n",
       "      <th>3</th>\n",
       "      <td>EBV-1-3</td>\n",
       "      <td>567.676085</td>\n",
       "      <td>26851.0</td>\n",
       "      <td>903.191084</td>\n",
       "      <td>45919.0</td>\n",
       "      <td>933.446113</td>\n",
       "      <td>47389.0</td>\n",
       "      <td>948.840044</td>\n",
       "      <td>54692.0</td>\n",
       "      <td>1148.402576</td>\n",
       "      <td>...</td>\n",
       "      <td>1012.729205</td>\n",
       "      <td>60603.0</td>\n",
       "      <td>669.125661</td>\n",
       "      <td>40682.0</td>\n",
       "      <td>273.707183</td>\n",
       "      <td>14350.0</td>\n",
       "      <td>421.084173</td>\n",
       "      <td>23321.0</td>\n",
       "      <td>541.804602</td>\n",
       "      <td>25983.0</td>\n",
       "    </tr>\n",
       "    <tr>\n",
       "      <th>4</th>\n",
       "      <td>EBV-1-3P</td>\n",
       "      <td>2509.490276</td>\n",
       "      <td>81595.0</td>\n",
       "      <td>3203.850147</td>\n",
       "      <td>96361.0</td>\n",
       "      <td>3762.145746</td>\n",
       "      <td>125180.0</td>\n",
       "      <td>1709.309959</td>\n",
       "      <td>51143.0</td>\n",
       "      <td>1199.688312</td>\n",
       "      <td>...</td>\n",
       "      <td>1966.627432</td>\n",
       "      <td>60635.0</td>\n",
       "      <td>2421.193477</td>\n",
       "      <td>84659.0</td>\n",
       "      <td>11638.899681</td>\n",
       "      <td>385841.0</td>\n",
       "      <td>8651.353811</td>\n",
       "      <td>293981.0</td>\n",
       "      <td>6874.072045</td>\n",
       "      <td>206803.0</td>\n",
       "    </tr>\n",
       "  </tbody>\n",
       "</table>\n",
       "<p>5 rows × 27 columns</p>\n",
       "</div>"
      ],
      "text/plain": [
       "            mir  MTT1_corrected  MTT1_filter  MTT2_corrected  MTT2_filter  \\\n",
       "0       EBV-1-1      480.484999       6287.0      504.320955      11303.0   \n",
       "1       EBV-1-2     5334.375850     305147.0     6384.205324     369161.0   \n",
       "2  EBV-1-2-star      662.832977      19552.0     1086.531618      26014.0   \n",
       "3       EBV-1-3      567.676085      26851.0      903.191084      45919.0   \n",
       "4      EBV-1-3P     2509.490276      81595.0     3203.850147      96361.0   \n",
       "\n",
       "   MTT3_corrected  MTT3_filter  NTC1_corrected  NTC1_filter  NTC2_corrected  \\\n",
       "0      550.909158      12095.0      288.231209       5890.0      169.532884   \n",
       "1     7037.846078     396818.0     7502.694319     449568.0     7164.884498   \n",
       "2     1544.005770      36634.0      228.112987       7892.0      305.554771   \n",
       "3      933.446113      47389.0      948.840044      54692.0     1148.402576   \n",
       "4     3762.145746     125180.0     1709.309959      51143.0     1199.688312   \n",
       "\n",
       "   ...  NTT3_corrected  NTT3_filter  NTT6N_corrected  NTT6N_filter  \\\n",
       "0  ...      267.576013       5639.0       257.078809        5057.0   \n",
       "1  ...    10174.543667     592579.0      6285.707165      386929.0   \n",
       "2  ...     1148.545614      32420.0      1005.908357       31148.0   \n",
       "3  ...     1012.729205      60603.0       669.125661       40682.0   \n",
       "4  ...     1966.627432      60635.0      2421.193477       84659.0   \n",
       "\n",
       "   NTTR1_corrected  NTTR1_filter  NTTR2_corrected  NTTR2_filter  \\\n",
       "0      1424.424699       22060.0      1025.424174       20639.0   \n",
       "1      5714.730298      284681.0      4374.065288      254675.0   \n",
       "2       861.746060       23114.0       873.866329       26926.0   \n",
       "3       273.707183       14350.0       421.084173       23321.0   \n",
       "4     11638.899681      385841.0      8651.353811      293981.0   \n",
       "\n",
       "   NTTR3_corrected  NTTR3_filter  \n",
       "0      2520.514763       46991.0  \n",
       "1      5089.448822      310512.0  \n",
       "2      1257.581071       37018.0  \n",
       "3       541.804602       25983.0  \n",
       "4      6874.072045      206803.0  \n",
       "\n",
       "[5 rows x 27 columns]"
      ]
     },
     "execution_count": 72,
     "metadata": {},
     "output_type": "execute_result"
    }
   ],
   "source": [
    "df = pd.read_feather('/stor/work/Lambowitz/cdw2854/miRNA/new_NTT/MiR/mir_count.feather')\n",
    "df.head()"
   ]
  },
  {
   "cell_type": "code",
   "execution_count": 85,
   "metadata": {
    "collapsed": false
   },
   "outputs": [
    {
     "data": {
      "text/html": [
       "<div>\n",
       "<style scoped>\n",
       "    .dataframe tbody tr th:only-of-type {\n",
       "        vertical-align: middle;\n",
       "    }\n",
       "\n",
       "    .dataframe tbody tr th {\n",
       "        vertical-align: top;\n",
       "    }\n",
       "\n",
       "    .dataframe thead th {\n",
       "        text-align: right;\n",
       "    }\n",
       "</style>\n",
       "<table border=\"1\" class=\"dataframe\">\n",
       "  <thead>\n",
       "    <tr style=\"text-align: right;\">\n",
       "      <th></th>\n",
       "      <th>sn</th>\n",
       "      <th>mir_count</th>\n",
       "      <th>correct</th>\n",
       "      <th>color</th>\n",
       "    </tr>\n",
       "  </thead>\n",
       "  <tbody>\n",
       "    <tr>\n",
       "      <th>0</th>\n",
       "      <td>MTT1_corrected</td>\n",
       "      <td>94.807589</td>\n",
       "      <td>Corrected</td>\n",
       "      <td>#56B4E9</td>\n",
       "    </tr>\n",
       "    <tr>\n",
       "      <th>1</th>\n",
       "      <td>MTT1_corrected</td>\n",
       "      <td>1052.560047</td>\n",
       "      <td>Corrected</td>\n",
       "      <td>#56B4E9</td>\n",
       "    </tr>\n",
       "    <tr>\n",
       "      <th>2</th>\n",
       "      <td>MTT1_corrected</td>\n",
       "      <td>130.787843</td>\n",
       "      <td>Corrected</td>\n",
       "      <td>#56B4E9</td>\n",
       "    </tr>\n",
       "    <tr>\n",
       "      <th>3</th>\n",
       "      <td>MTT1_corrected</td>\n",
       "      <td>112.011824</td>\n",
       "      <td>Corrected</td>\n",
       "      <td>#56B4E9</td>\n",
       "    </tr>\n",
       "    <tr>\n",
       "      <th>4</th>\n",
       "      <td>MTT1_corrected</td>\n",
       "      <td>495.163685</td>\n",
       "      <td>Corrected</td>\n",
       "      <td>#56B4E9</td>\n",
       "    </tr>\n",
       "  </tbody>\n",
       "</table>\n",
       "</div>"
      ],
      "text/plain": [
       "               sn    mir_count    correct    color\n",
       "0  MTT1_corrected    94.807589  Corrected  #56B4E9\n",
       "1  MTT1_corrected  1052.560047  Corrected  #56B4E9\n",
       "2  MTT1_corrected   130.787843  Corrected  #56B4E9\n",
       "3  MTT1_corrected   112.011824  Corrected  #56B4E9\n",
       "4  MTT1_corrected   495.163685  Corrected  #56B4E9"
      ]
     },
     "execution_count": 85,
     "metadata": {},
     "output_type": "execute_result"
    }
   ],
   "source": [
    "ce = color_encoder()\n",
    "mir_df = df\\\n",
    "    .set_index('mir')\\\n",
    "    .transform(lambda x: x/x.sum() * 1e6)\\\n",
    "    .pipe(pd.melt, value_name = 'mir_count', var_name = 'sn')\\\n",
    "    .assign(correct = lambda d: np.where(d['sn'].str.contains('corrected'), 'Corrected', 'Uncorrected'))\\\n",
    "    .assign(color = lambda d: ce.fit_transform(d.correct))\n",
    "mir_df.head()"
   ]
  },
  {
   "cell_type": "code",
   "execution_count": 86,
   "metadata": {
    "collapsed": false
   },
   "outputs": [
    {
     "name": "stderr",
     "output_type": "stream",
     "text": [
      "/stor/work/Lambowitz/cdw2854/src/miniconda3/lib/python3.6/site-packages/scipy/stats/stats.py:1713: FutureWarning: Using a non-tuple sequence for multidimensional indexing is deprecated; use `arr[tuple(seq)]` instead of `arr[seq]`. In the future this will be interpreted as an array index, `arr[np.array(seq)]`, which will result either in an error or a different result.\n",
      "  return np.add.reduce(sorted[indexer] * weights, axis=axis) / sumval\n"
     ]
    },
    {
     "data": {
      "image/png": "[encoded data removed]",
      "text/plain": [
       "<Figure size 432x288 with 1 Axes>"
      ]
     },
     "metadata": {
      "needs_background": "light"
     },
     "output_type": "display_data"
    }
   ],
   "source": [
    "ax = plt.subplot(111)\n",
    "sns.violinplot(data=mir_df, x = 'sn', y ='mir_count')\n",
    "xts = ax.set_xticklabels(ax.get_xticklabels(), rotation=70,\n",
    "                        rotation_mode='anchor', ha ='right')\n",
    "ax.hlines(xmin = -0.5, xmax = len(mir_df.sn.unique())+1, \n",
    "         y = np.log(1e6/962), color = 'red')\n",
    "sns.despine()"
   ]
  },
  {
   "cell_type": "code",
   "execution_count": 87,
   "metadata": {
    "collapsed": false
   },
   "outputs": [
    {
     "data": {
      "text/html": [
       "<div>\n",
       "<style scoped>\n",
       "    .dataframe tbody tr th:only-of-type {\n",
       "        vertical-align: middle;\n",
       "    }\n",
       "\n",
       "    .dataframe tbody tr th {\n",
       "        vertical-align: top;\n",
       "    }\n",
       "\n",
       "    .dataframe thead th {\n",
       "        text-align: right;\n",
       "    }\n",
       "</style>\n",
       "<table border=\"1\" class=\"dataframe\">\n",
       "  <thead>\n",
       "    <tr style=\"text-align: right;\">\n",
       "      <th></th>\n",
       "      <th>sn</th>\n",
       "      <th>correct</th>\n",
       "      <th>color</th>\n",
       "      <th>error</th>\n",
       "      <th>log_e</th>\n",
       "    </tr>\n",
       "  </thead>\n",
       "  <tbody>\n",
       "    <tr>\n",
       "      <th>24</th>\n",
       "      <td>NTTR3_corrected</td>\n",
       "      <td>Corrected</td>\n",
       "      <td>#56B4E9</td>\n",
       "      <td>46602.913546</td>\n",
       "      <td>10.749418</td>\n",
       "    </tr>\n",
       "    <tr>\n",
       "      <th>22</th>\n",
       "      <td>NTTR2_corrected</td>\n",
       "      <td>Corrected</td>\n",
       "      <td>#56B4E9</td>\n",
       "      <td>52562.121470</td>\n",
       "      <td>10.869751</td>\n",
       "    </tr>\n",
       "    <tr>\n",
       "      <th>4</th>\n",
       "      <td>MTT3_corrected</td>\n",
       "      <td>Corrected</td>\n",
       "      <td>#56B4E9</td>\n",
       "      <td>54111.719189</td>\n",
       "      <td>10.898806</td>\n",
       "    </tr>\n",
       "    <tr>\n",
       "      <th>20</th>\n",
       "      <td>NTTR1_corrected</td>\n",
       "      <td>Corrected</td>\n",
       "      <td>#56B4E9</td>\n",
       "      <td>55337.204848</td>\n",
       "      <td>10.921201</td>\n",
       "    </tr>\n",
       "    <tr>\n",
       "      <th>2</th>\n",
       "      <td>MTT2_corrected</td>\n",
       "      <td>Corrected</td>\n",
       "      <td>#56B4E9</td>\n",
       "      <td>56813.379628</td>\n",
       "      <td>10.947527</td>\n",
       "    </tr>\n",
       "  </tbody>\n",
       "</table>\n",
       "</div>"
      ],
      "text/plain": [
       "                 sn    correct    color         error      log_e\n",
       "24  NTTR3_corrected  Corrected  #56B4E9  46602.913546  10.749418\n",
       "22  NTTR2_corrected  Corrected  #56B4E9  52562.121470  10.869751\n",
       "4    MTT3_corrected  Corrected  #56B4E9  54111.719189  10.898806\n",
       "20  NTTR1_corrected  Corrected  #56B4E9  55337.204848  10.921201\n",
       "2    MTT2_corrected  Corrected  #56B4E9  56813.379628  10.947527"
      ]
     },
     "execution_count": 87,
     "metadata": {},
     "output_type": "execute_result"
    }
   ],
   "source": [
    "rmse = mir_df \\\n",
    "    .assign(error = lambda d: d.mir_count - 1e6/962)\\\n",
    "    .groupby(['sn','correct','color'], as_index=False)\\\n",
    "    .agg({'error': lambda e: np.sqrt(np.sum(e**2)) })\\\n",
    "    .assign(log_e = lambda d: np.log(d.error))\\\n",
    "    .sort_values('log_e')\n",
    "rmse.head()"
   ]
  },
  {
   "cell_type": "code",
   "execution_count": 93,
   "metadata": {
    "collapsed": false
   },
   "outputs": [
    {
     "data": {
      "text/plain": [
       "<matplotlib.legend.Legend at 0x7fb932c70d30>"
      ]
     },
     "execution_count": 93,
     "metadata": {},
     "output_type": "execute_result"
    },
    {
     "data": {
      "image/png": "[encoded data removed]",
      "text/plain": [
       "<Figure size 720x360 with 1 Axes>"
      ]
     },
     "metadata": {
      "needs_background": "light"
     },
     "output_type": "display_data"
    }
   ],
   "source": [
    "fig = plt.figure(figsize=(10,5))\n",
    "ax = plt.subplot()\n",
    "rmse.plot.bar('sn', 'error', color = rmse.color, ax = ax)\n",
    "sns.despine()\n",
    "ax.legend().set_visible(False)\n",
    "xts = []\n",
    "for xt in ax.get_xticklabels():\n",
    "    xts.append(xt.get_text().split('_')[0])\n",
    "ax.set_xticklabels(xts, rotation=70, rotation_mode = 'anchor', ha='right')\n",
    "ax.set_xlabel('')\n",
    "ax.set_ylabel('Root mean square error')\n",
    "ce.show_legend(ax, title='', fontsize=20, frameon=False)\n",
    "fig.savefig('')"
   ]
  },
  {
   "cell_type": "code",
   "execution_count": null,
   "metadata": {
    "collapsed": true
   },
   "outputs": [],
   "source": []
  }
 ],
 "metadata": {
  "kernelspec": {
   "display_name": "miniconda3",
   "language": "python",
   "name": "miniconda3"
  },
  "language_info": {
   "codemirror_mode": {
    "name": "ipython",
    "version": 3
   },
   "file_extension": ".py",
   "mimetype": "text/x-python",
   "name": "python",
   "nbconvert_exporter": "python",
   "pygments_lexer": "ipython3",
   "version": "3.6.8"
  }
 },
 "nbformat": 4,
 "nbformat_minor": 2
}
